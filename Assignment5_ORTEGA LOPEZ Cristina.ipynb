{
 "cells": [
  {
   "cell_type": "markdown",
   "id": "816f0320-037a-4146-b004-da1d73ed65da",
   "metadata": {},
   "source": [
    "Assignment 5: N-grams"
   ]
  },
  {
   "cell_type": "code",
   "execution_count": 1,
   "id": "3b0c09a6-9699-456e-9582-b4874f681214",
   "metadata": {},
   "outputs": [
    {
     "name": "stderr",
     "output_type": "stream",
     "text": [
      "[nltk_data] Downloading package brown to C:\\Users\\Cristina\n",
      "[nltk_data]     Ortega\\AppData\\Roaming\\nltk_data...\n",
      "[nltk_data]   Unzipping corpora\\brown.zip.\n"
     ]
    }
   ],
   "source": [
    "import nltk\n",
    "import pandas as pd\n",
    "import string\n",
    "\n",
    "nltk.download('brown')\n",
    "from nltk.corpus import brown\n",
    "\n",
    "#preprocessing\n",
    "tokenized_text = brown.words()\n",
    "\n",
    "def preprocess(text):\n",
    "    return [word.lower() for word in text if word not in string.punctuation]\n",
    "\n",
    "cleaned_tokens = preprocess(tokenized_text)"
   ]
  },
  {
   "cell_type": "code",
   "execution_count": 2,
   "id": "0b5e96e5-67df-49e6-917d-c8b79d390bb3",
   "metadata": {},
   "outputs": [],
   "source": [
    "#N-grams frequency dataframe\n",
    "from nltk.util import ngrams\n",
    "from collections import Counter\n",
    "\n",
    "def get_ngram_freq_df(tokens, n):\n",
    "    n_grams = list(ngrams(tokens, n))\n",
    "    freq_dist = Counter(n_grams)\n",
    "    df = pd.DataFrame(freq_dist.items(), columns=['ngram', 'frequency'])\n",
    "    df = df.sort_values(by='frequency', ascending=False).reset_index(drop=True)\n",
    "    return df"
   ]
  },
  {
   "cell_type": "code",
   "execution_count": 3,
   "id": "aa3a7bbb-388e-498e-a223-9c98497a091b",
   "metadata": {},
   "outputs": [],
   "source": [
    "#Top next words\n",
    "def predict_next_words(seq, ngram_df, k=5):\n",
    "    seq_tuple = tuple(seq.lower().split())\n",
    "    seq_len = len(seq_tuple)\n",
    " \n",
    "    filtered = ngram_df[ngram_df['ngram'].apply(lambda x: x[:seq_len] == seq_tuple)]\n",
    "    \n",
    "    top_ngrams = filtered.sort_values(by='frequency', ascending=False).head(k)\n",
    "    \n",
    "    next_words = [ngram[-1] for ngram in top_ngrams['ngram']]\n",
    "    \n",
    "    return next_words"
   ]
  },
  {
   "cell_type": "code",
   "execution_count": 4,
   "id": "d427a428-adf3-4f08-b0ad-1dbd10d271f5",
   "metadata": {},
   "outputs": [
    {
     "name": "stdout",
     "output_type": "stream",
     "text": [
      "['first', 'same', 'most', 'other', '``']\n"
     ]
    }
   ],
   "source": [
    "#example\n",
    "bigram_df = get_ngram_freq_df(cleaned_tokens, 2)\n",
    "\n",
    "#predicting next word after \"the\"\n",
    "print(predict_next_words(\"the\", bigram_df, k=5))"
   ]
  },
  {
   "cell_type": "code",
   "execution_count": 5,
   "id": "1fb51665-b3a9-4198-a321-15dcbedd8b1c",
   "metadata": {},
   "outputs": [
    {
     "name": "stdout",
     "output_type": "stream",
     "text": [
      "['world', 'first', 'united', 'same', 'past']\n"
     ]
    }
   ],
   "source": [
    "#example2\n",
    "trigram_df = get_ngram_freq_df(cleaned_tokens, 3)\n",
    "\n",
    "#predicting next words after \"in the\"\n",
    "print(predict_next_words(\"in the\", trigram_df, k=5))"
   ]
  },
  {
   "cell_type": "code",
   "execution_count": 8,
   "id": "b7d6709c-d6cf-4222-87cf-2f1140050a53",
   "metadata": {},
   "outputs": [],
   "source": [
    "#Split into 90% train, 10% test\n",
    "split_idx = int(0.9 * len(cleaned_tokens))\n",
    "train_tokens = cleaned_tokens[:split_idx]\n",
    "test_tokens = cleaned_tokens[split_idx:]"
   ]
  },
  {
   "cell_type": "code",
   "execution_count": 9,
   "id": "529d9637-85e1-44ab-9ff8-b1b070e1ce31",
   "metadata": {},
   "outputs": [],
   "source": [
    "from nltk.util import ngrams\n",
    "from collections import Counter\n",
    "import pandas as pd\n",
    "\n",
    "def get_ngram_freq_df(tokens, n):\n",
    "    n_grams = list(ngrams(tokens, n))\n",
    "    freq_dist = Counter(n_grams)\n",
    "    df = pd.DataFrame(freq_dist.items(), columns=['ngram', 'frequency'])\n",
    "    return df"
   ]
  },
  {
   "cell_type": "code",
   "execution_count": 10,
   "id": "c4d2c73f-b4c4-4334-a122-a9afbf3c7f8a",
   "metadata": {},
   "outputs": [],
   "source": [
    "def predict_next_words(seq, ngram_df, k=5):\n",
    "    seq_tuple = tuple(seq.lower().split())\n",
    "    seq_len = len(seq_tuple)\n",
    "    \n",
    "    filtered = ngram_df[ngram_df['ngram'].apply(lambda x: x[:seq_len] == seq_tuple)]\n",
    "    top_ngrams = filtered.sort_values(by='frequency', ascending=False).head(k)\n",
    "    next_words = [ngram[-1] for ngram in top_ngrams['ngram']]\n",
    "    \n",
    "    return next_words"
   ]
  },
  {
   "cell_type": "code",
   "execution_count": 11,
   "id": "b1285189-1443-4d51-9d43-95ba5987e44c",
   "metadata": {},
   "outputs": [],
   "source": [
    "def evaluate_accuracy(test_tokens, ngram_df, n, k=5, max_tests=1000):\n",
    "    correct = 0\n",
    "    total = 0\n",
    "\n",
    "    for i in range(len(test_tokens) - n):\n",
    "        context = test_tokens[i:i+n-1]\n",
    "        true_next = test_tokens[i+n-1]\n",
    "        context_str = ' '.join(context)\n",
    "\n",
    "        predicted = predict_next_words(context_str, ngram_df, k)\n",
    "\n",
    "        if true_next in predicted:\n",
    "            correct += 1\n",
    "        total += 1\n",
    "\n",
    "        if total >= max_tests:\n",
    "            break\n",
    "\n",
    "    accuracy = correct / total if total > 0 else 0\n",
    "    return accuracy"
   ]
  },
  {
   "cell_type": "code",
   "execution_count": 12,
   "id": "33aafb50-ea31-4dce-b7f3-8a22db76e3d8",
   "metadata": {},
   "outputs": [
    {
     "name": "stdout",
     "output_type": "stream",
     "text": [
      "Bigram Top-5 Accuracy: 23.60%\n",
      "Trigram Top-5 Accuracy: 14.00%\n"
     ]
    }
   ],
   "source": [
    "#accuracy\n",
    "#Bigram\n",
    "bigram_df = get_ngram_freq_df(train_tokens, 2)\n",
    "bigram_accuracy = evaluate_accuracy(test_tokens, bigram_df, n=2, k=5)\n",
    "print(f\"Bigram Top-5 Accuracy: {bigram_accuracy:.2%}\")\n",
    "\n",
    "#Trigram\n",
    "trigram_df = get_ngram_freq_df(train_tokens, 3)\n",
    "trigram_accuracy = evaluate_accuracy(test_tokens, trigram_df, n=3, k=5)\n",
    "print(f\"Trigram Top-5 Accuracy: {trigram_accuracy:.2%}\")"
   ]
  }
 ],
 "metadata": {
  "kernelspec": {
   "display_name": "Python 3 (ipykernel)",
   "language": "python",
   "name": "python3"
  },
  "language_info": {
   "codemirror_mode": {
    "name": "ipython",
    "version": 3
   },
   "file_extension": ".py",
   "mimetype": "text/x-python",
   "name": "python",
   "nbconvert_exporter": "python",
   "pygments_lexer": "ipython3",
   "version": "3.11.7"
  }
 },
 "nbformat": 4,
 "nbformat_minor": 5
}
